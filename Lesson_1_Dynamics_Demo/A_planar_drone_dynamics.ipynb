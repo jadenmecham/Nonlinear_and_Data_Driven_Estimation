{
  "cells": [
    {
      "cell_type": "markdown",
      "id": "1f904b9b-def1-4830-bf0d-47c68d6e4bf1",
      "metadata": {
        "id": "1f904b9b-def1-4830-bf0d-47c68d6e4bf1"
      },
      "source": [
        "# Standard imports"
      ]
    },
    {
      "cell_type": "code",
      "execution_count": 14,
      "id": "a969f402-9690-4a2a-af50-b0873f1a8c22",
      "metadata": {
        "id": "a969f402-9690-4a2a-af50-b0873f1a8c22"
      },
      "outputs": [],
      "source": [
        "import numpy as np\n",
        "import matplotlib.pyplot as plt\n",
        "import pandas\n",
        "from scipy.integrate import odeint"
      ]
    },
    {
      "cell_type": "markdown",
      "id": "74174dd9-70d5-41f1-a545-7f7d0821f7f2",
      "metadata": {
        "id": "74174dd9-70d5-41f1-a545-7f7d0821f7f2"
      },
      "source": [
        "# Custom imports that are either local or pulled from github"
      ]
    },
    {
      "cell_type": "code",
      "execution_count": 15,
      "id": "e89545f0-dc89-487f-b2ef-7dc014772b94",
      "metadata": {
        "id": "e89545f0-dc89-487f-b2ef-7dc014772b94"
      },
      "outputs": [],
      "source": [
        "import sys\n",
        "import requests\n",
        "import importlib\n",
        "\n",
        "def import_local_or_github(package_name, function_name=None, directory=None, giturl=None):\n",
        "    # Import functions directly from github\n",
        "    # Important: note that we use raw.githubusercontent.com, not github.com\n",
        "\n",
        "    try: # to find the file locally\n",
        "        if directory is not None:\n",
        "            if directory not in sys.path:\n",
        "                sys.path.append(directory)\n",
        "\n",
        "        package = importlib.import_module(package_name)\n",
        "        if function_name is not None:\n",
        "            function = getattr(package, function_name)\n",
        "            return function\n",
        "        else:\n",
        "            return package\n",
        "\n",
        "    except: # get the file from github\n",
        "        if giturl is None:\n",
        "            giturl = 'https://raw.githubusercontent.com/florisvb/Nonlinear_and_Data_Driven_Estimation/main/Utility/' + str(package_name) + '.py'\n",
        "\n",
        "        r = requests.get(giturl)\n",
        "        print('Fetching from: ')\n",
        "        print(r)\n",
        "\n",
        "        # Store the file to the colab working directory\n",
        "        with open(package_name+'.py', 'w') as f:\n",
        "            f.write(r.text)\n",
        "        f.close()\n",
        "\n",
        "        # import the function we want from that file\n",
        "        package = importlib.import_module(package_name)\n",
        "        if function_name is not None:\n",
        "            function = getattr(package, function_name)\n",
        "            return function\n",
        "        else:\n",
        "            return package\n",
        "\n",
        "plot_tme = import_local_or_github('plot_utility', 'plot_tme', directory='../Utility')"
      ]
    },
    {
      "cell_type": "markdown",
      "id": "683faff7-aa4b-4eca-aa96-d86198d54bd4",
      "metadata": {
        "id": "683faff7-aa4b-4eca-aa96-d86198d54bd4"
      },
      "source": [
        "# Imports related to model predictive control and pybounds"
      ]
    },
    {
      "cell_type": "code",
      "execution_count": 16,
      "id": "13e2b1b4-19ec-4575-a3c2-c007698c41c2",
      "metadata": {
        "id": "13e2b1b4-19ec-4575-a3c2-c007698c41c2"
      },
      "outputs": [],
      "source": [
        "try:\n",
        "    import casadi\n",
        "except:\n",
        "    !pip install casadi\n",
        "    import casadi\n",
        "\n",
        "try:\n",
        "    import do_mpc\n",
        "except:\n",
        "    !pip install do_mpc\n",
        "    import do_mpc\n",
        "\n",
        "try:\n",
        "    import pybounds\n",
        "except:\n",
        "    !pip install pybounds\n",
        "    import pybounds"
      ]
    },
    {
      "cell_type": "markdown",
      "id": "fcb1cb7f-dde4-49bb-9569-b205e8ea4acd",
      "metadata": {
        "id": "fcb1cb7f-dde4-49bb-9569-b205e8ea4acd"
      },
      "source": [
        "# Planar drone dynamics."
      ]
    },
    {
      "cell_type": "markdown",
      "id": "765f359d-f722-4e3b-a7ee-aa1e65d7909c",
      "metadata": {
        "id": "765f359d-f722-4e3b-a7ee-aa1e65d7909c"
      },
      "source": [
        "$\n",
        "\\mathbf{\\dot{x}} =\n",
        "\\frac{d}{dt}\n",
        "\\begin{bmatrix}\n",
        "\\bbox[yellow]{\\theta} \\\\[0.3em]\n",
        "\\bbox[yellow]{\\dot{\\theta}} \\\\[0.3em]\n",
        "\\bbox[yellow]{x} \\\\[0.3em]\n",
        "\\bbox[yellow]{\\dot{x}} \\\\[0.3em]\n",
        "\\bbox[yellow]{z} \\\\[0.3em]\n",
        "\\bbox[yellow]{\\dot{z}} \\\\[0.3em]\n",
        "\\bbox[pink]{k}\n",
        "\\end{bmatrix} =\n",
        "\\overset{f_0}{\\begin{bmatrix}\n",
        "\\bbox[yellow]{\\dot{\\theta}} \\\\[0.3em]\n",
        "0 \\\\[0.3em]\n",
        "\\bbox[yellow]{\\dot{x}} \\\\[0.3em]\n",
        "0 \\\\[0.3em]\n",
        "\\bbox[yellow]{\\dot{z}} \\\\[0.3em]\n",
        "-\\bbox[lightblue]{g} \\\\[0.3em]\n",
        "0\n",
        "\\end{bmatrix}} +\n",
        "\\overset{f_1}{\\begin{bmatrix}\n",
        "0 \\\\[0.3em]\n",
        "\\bbox[lightblue]{l}\\bbox[pink]{k}/\\bbox[lightblue]{I_{yy}} \\\\[0.3em]\n",
        "0 \\\\[0.3em]\n",
        "0 \\\\[0.3em]\n",
        "0 \\\\[0.3em]\n",
        "0 \\\\[0.3em]\n",
        "0\n",
        "\\end{bmatrix}} \\bbox[lightgreen]{j_1} +\n",
        "\\overset{f_2}{\\begin{bmatrix}\n",
        "0 \\\\[0.3em]\n",
        "-\\bbox[pink]{k}\\bbox[yellow]{\\sin\\theta}/\\bbox[lightblue]{m} \\\\[0.3em]\n",
        "0 \\\\[0.3em]\n",
        "\\bbox[pink]{k}\\bbox[yellow]{\\cos\\theta}/\\bbox[lightblue]{m} \\\\[0.3em]\n",
        "0 \\\\[0.3em]\n",
        "0 \\\\[0.3em]\n",
        "0\n",
        "\\end{bmatrix}} \\bbox[lightgreen]{j_2}\n",
        "$\n",
        "\n",
        "<span style=\"color:blue;\">AI tip: try an LLM to convert picture of your dynamics to latex. It'll get much of it right, but you may need to fix it."
      ]
    },
    {
      "cell_type": "markdown",
      "id": "349d6d26-ff8d-4a7e-bd79-fbe9638a18fc",
      "metadata": {
        "id": "349d6d26-ff8d-4a7e-bd79-fbe9638a18fc"
      },
      "source": [
        "# Set some constant parameters (the blue symbols above)"
      ]
    },
    {
      "cell_type": "code",
      "execution_count": 17,
      "id": "c527e3eb-47d5-4f20-83ea-5b6bcb273148",
      "metadata": {
        "id": "c527e3eb-47d5-4f20-83ea-5b6bcb273148"
      },
      "outputs": [],
      "source": [
        "m = 1 # mass (kg)\n",
        "g = 9.81 # acceleration due to gravity (m/s^2)\n",
        "L = 0.5 # length of the drone arm (m)\n",
        "Iyy = 0.02 # moment of inertia (e.g. 1/12*m*L**2 for a solid rod, as an approximation)"
      ]
    },
    {
      "cell_type": "markdown",
      "id": "8821e299-aa98-4222-88b4-64cbe1507311",
      "metadata": {
        "id": "8821e299-aa98-4222-88b4-64cbe1507311"
      },
      "source": [
        "# Define your dynamics function\n",
        "\n",
        "We will use this same format many times, for evaluating observability and Kalman filters.\n",
        "\n",
        "<span style=\"color:blue;\">AI tip: try an LLM to convert a picture of the dynamics, or the latex code, to a python function. You may have to correct it!"
      ]
    },
    {
      "cell_type": "code",
      "execution_count": 47,
      "id": "3e7f724e-0938-4a28-89be-5b1c7970ba49",
      "metadata": {
        "id": "3e7f724e-0938-4a28-89be-5b1c7970ba49"
      },
      "outputs": [],
      "source": [
        "def f(x_vec, u_vec, m=m, g=g, L=L, I=Iyy):\n",
        "    \"\"\"\n",
        "    Continuous time dynamics function for the system shown in the equation.\n",
        "\n",
        "    Parameters:\n",
        "    x_vec : array-like, shape (7,)\n",
        "        State vector [θ, θ̇, x, ẋ, z, ż, k]\n",
        "    u_vec : array-like, shape (2,)\n",
        "        Control vector [j1, j2]\n",
        "    L : float, default 0.5\n",
        "        drone arm length\n",
        "    m : float, default 1.0\n",
        "        drone mass\n",
        "    g : float, default 9.81\n",
        "        Gravitational acceleration\n",
        "\n",
        "    Returns:\n",
        "    x_dot : numpy array, shape (7,)\n",
        "        Time derivative of state vector\n",
        "    \"\"\"\n",
        "\n",
        "    C = 0.5\n",
        "\n",
        "    # Extract state variables\n",
        "    theta = x_vec[0]\n",
        "    theta_dot = x_vec[1]\n",
        "    x = x_vec[2]\n",
        "    x_dot = x_vec[3]\n",
        "    z = x_vec[4]\n",
        "    z_dot = x_vec[5]\n",
        "    k = x_vec[6]\n",
        "\n",
        "    # Extract control inputs\n",
        "    j1 = u_vec[0]\n",
        "    j2 = u_vec[1]\n",
        "\n",
        "    # f0 component: drift dynamics (no controls)\n",
        "    f0_contribution = np.array([ theta_dot,\n",
        "                                 0,\n",
        "                                 x_dot,\n",
        "                                 - (x_dot) * (C * x_dot**2) / m,\n",
        "                                 z_dot,\n",
        "                                 (-g) * (z_dot) * (C * z_dot**2) / m,\n",
        "                                 0])\n",
        "\n",
        "    # f1 component: multiplied by control j1\n",
        "    f1_contribution = j1 * np.array([0,\n",
        "                                     L*k/Iyy,\n",
        "                                     0,\n",
        "                                     0,\n",
        "                                     0,\n",
        "                                     0,\n",
        "                                     0])\n",
        "\n",
        "    # f2 component: multiplied by control j2\n",
        "    f2_contribution = j2 * np.array([0,\n",
        "                                     0,\n",
        "                                     0,\n",
        "                                     -k * np.sin(theta) / m,\n",
        "                                     0,\n",
        "                                     k * np.cos(theta) / m,\n",
        "                                     0])\n",
        "\n",
        "    # combined dynamics\n",
        "    x_dot_vec = f0_contribution + f1_contribution + f2_contribution\n",
        "\n",
        "    return x_dot_vec"
      ]
    },
    {
      "cell_type": "markdown",
      "id": "4f4e5265-c54b-472c-9ec3-ac00877d565d",
      "metadata": {
        "id": "4f4e5265-c54b-472c-9ec3-ac00877d565d"
      },
      "source": [
        "# Make sure dynamics make sense using odeint\n",
        "\n",
        "Use odeint to perform a simple ODE solver using a simple controller to verify that the dynamics appear to be correct.  "
      ]
    },
    {
      "cell_type": "code",
      "execution_count": 48,
      "id": "c0cc9e3c-f586-4617-8b75-c2efe5ce9957",
      "metadata": {
        "id": "c0cc9e3c-f586-4617-8b75-c2efe5ce9957"
      },
      "outputs": [],
      "source": [
        "def f_ode(x_vec, tsim, u_func, f):\n",
        "    '''\n",
        "    Wrap dynamics function so it can be used with odeint.\n",
        "\n",
        "    Parameters:\n",
        "    x_vec : array-like, shape (7,)\n",
        "        State vector\n",
        "    tsim : float\n",
        "        Current time step\n",
        "    u_func: function\n",
        "        Control function\n",
        "    f: function\n",
        "        Continuous time dynamics function\n",
        "\n",
        "    Returns:\n",
        "    x_dot_vec : numpy array, shape (7,)\n",
        "        Time derivative of state vector\n",
        "    '''\n",
        "    u_vec = u_func(x_vec, tsim)\n",
        "    x_dot_vec = f(x_vec, u_vec)\n",
        "    return x_dot_vec"
      ]
    },
    {
      "cell_type": "code",
      "execution_count": 49,
      "id": "987fdfab-a0bc-480f-99aa-e5029ffc9846",
      "metadata": {
        "id": "987fdfab-a0bc-480f-99aa-e5029ffc9846"
      },
      "outputs": [],
      "source": [
        "def u_func(x_vec, tsim, m=m, g=g, L=L, Iyy=Iyy):\n",
        "    '''\n",
        "    Simple controller that aims to move the drone up, and make the angle oscillate.\n",
        "    '''\n",
        "    theta = x_vec[0]\n",
        "    theta_des = np.sin(2*tsim)*0.1\n",
        "    err = theta_des - theta\n",
        "    ctrl = 10*err\n",
        "    return [ctrl, m*g*1.5]"
      ]
    },
    {
      "cell_type": "code",
      "execution_count": 50,
      "id": "5dfb6f94-20d4-4ed4-9549-105d29ac0f46",
      "metadata": {
        "id": "5dfb6f94-20d4-4ed4-9549-105d29ac0f46"
      },
      "outputs": [],
      "source": [
        "# sim time\n",
        "dt = 0.01\n",
        "tsim = np.arange(0, 8.0, step=dt)"
      ]
    },
    {
      "cell_type": "code",
      "execution_count": 51,
      "id": "6acf5c11-e8ae-462b-a9b1-c75c195e7183",
      "metadata": {
        "id": "6acf5c11-e8ae-462b-a9b1-c75c195e7183"
      },
      "outputs": [],
      "source": [
        "# initial condition\n",
        "x0 = np.array([0, 0, 0, 0, 10, 0, 1])"
      ]
    },
    {
      "cell_type": "code",
      "execution_count": 52,
      "id": "a2c7e8f7-8727-42ee-af5b-2f85e5aafbe4",
      "metadata": {
        "id": "a2c7e8f7-8727-42ee-af5b-2f85e5aafbe4"
      },
      "outputs": [],
      "source": [
        "# run odeint\n",
        "result = odeint(f_ode, x0, tsim, args=(u_func, f) )"
      ]
    },
    {
      "cell_type": "markdown",
      "id": "6ba7c5d1-136d-4fa7-875b-8c5d97434af3",
      "metadata": {
        "id": "6ba7c5d1-136d-4fa7-875b-8c5d97434af3"
      },
      "source": [
        "### Plot some results\n",
        "\n",
        "Based on the control function and dynamics, does this make sense?"
      ]
    },
    {
      "cell_type": "code",
      "execution_count": 53,
      "id": "10120844-46b5-4d00-ac30-cf628cfd6240",
      "metadata": {
        "id": "10120844-46b5-4d00-ac30-cf628cfd6240",
        "outputId": "85abbfda-81b2-4824-b8e5-5c752f39230b",
        "colab": {
          "base_uri": "https://localhost:8080/",
          "height": 486
        }
      },
      "outputs": [
        {
          "output_type": "execute_result",
          "data": {
            "text/plain": [
              "Text(0, 0.5, 'z pos')"
            ]
          },
          "metadata": {},
          "execution_count": 53
        },
        {
          "output_type": "display_data",
          "data": {
            "text/plain": [
              "<Figure size 640x480 with 1 Axes>"
            ],
            "image/png": "[encoded data removed]"
          },
          "metadata": {}
        }
      ],
      "source": [
        "fig = plt.figure()\n",
        "ax = fig.add_subplot(111)\n",
        "\n",
        "ax.plot(result[:,2], result[:,4], '.')\n",
        "ax.set_xlabel('x pos')\n",
        "ax.set_ylabel('z pos')"
      ]
    },
    {
      "cell_type": "code",
      "execution_count": 54,
      "id": "0d1aa2c3-fe29-4553-9085-f12734e249f7",
      "metadata": {
        "id": "0d1aa2c3-fe29-4553-9085-f12734e249f7",
        "outputId": "c9882aaf-207b-445e-d9ff-a8103fee8451",
        "colab": {
          "base_uri": "https://localhost:8080/",
          "height": 486
        }
      },
      "outputs": [
        {
          "output_type": "execute_result",
          "data": {
            "text/plain": [
              "Text(0, 0.5, 'theta')"
            ]
          },
          "metadata": {},
          "execution_count": 54
        },
        {
          "output_type": "display_data",
          "data": {
            "text/plain": [
              "<Figure size 640x480 with 1 Axes>"
            ],
            "image/png": "[encoded data removed]"
          },
          "metadata": {}
        }
      ],
      "source": [
        "fig = plt.figure()\n",
        "ax = fig.add_subplot(111)\n",
        "\n",
        "ax.plot(tsim, result[:,0], '.')\n",
        "ax.set_xlabel('time')\n",
        "ax.set_ylabel('theta')"
      ]
    },
    {
      "cell_type": "markdown",
      "id": "fb81a825-aff4-47cd-828f-b6deefa0ad02",
      "metadata": {
        "id": "fb81a825-aff4-47cd-828f-b6deefa0ad02"
      },
      "source": [
        "# Planar drone measurements\n",
        "\n",
        "Define a measurement function. In this case we consider $\\mathbf{y}$ consisting of a downward facing camera that records ventral optic flow, and a measurement of the tilt of the planar drone.\n",
        "\n",
        "$\n",
        "\\mathbf{y} =\n",
        "\\begin{bmatrix}\n",
        "\\bbox[yellow]{\\dot{x}}/\\bbox[yellow]{z} \\\\[0.3em]\n",
        "\\bbox[yellow]{\\theta}\n",
        "\\end{bmatrix}\n",
        "$"
      ]
    },
    {
      "cell_type": "code",
      "execution_count": 55,
      "id": "1c7979f0-f9a2-44d4-8e19-da0142038fb3",
      "metadata": {
        "id": "1c7979f0-f9a2-44d4-8e19-da0142038fb3"
      },
      "outputs": [],
      "source": [
        "def h(x_vec, u_vec):\n",
        "    # Extract state variables\n",
        "    theta = x_vec[0]\n",
        "    theta_dot = x_vec[1]\n",
        "    x = x_vec[2]\n",
        "    x_dot = x_vec[3]\n",
        "    z = x_vec[4]\n",
        "    z_dot = x_vec[5]\n",
        "    k = x_vec[6]\n",
        "\n",
        "    # Extract control inputs\n",
        "    j1 = u_vec[0]\n",
        "    j2 = u_vec[1]\n",
        "\n",
        "    # Measurements\n",
        "    y_vec = [x_dot/z, theta]\n",
        "\n",
        "    # Return measurement\n",
        "    return y_vec"
      ]
    },
    {
      "cell_type": "markdown",
      "id": "e38d4002-ac01-4e6c-90b9-6719473dc97e",
      "metadata": {
        "id": "e38d4002-ac01-4e6c-90b9-6719473dc97e"
      },
      "source": [
        "# Simulate with pybounds / MPC"
      ]
    },
    {
      "cell_type": "code",
      "execution_count": 56,
      "id": "6165e84d-fd0b-4d69-b7d8-cd81bfee81bb",
      "metadata": {
        "id": "6165e84d-fd0b-4d69-b7d8-cd81bfee81bb"
      },
      "outputs": [],
      "source": [
        "import pybounds"
      ]
    },
    {
      "cell_type": "code",
      "execution_count": 57,
      "id": "f7de7b9f-f08f-4681-8652-91dba594e4fa",
      "metadata": {
        "id": "f7de7b9f-f08f-4681-8652-91dba594e4fa"
      },
      "outputs": [],
      "source": [
        "state_names = ['theta', 'theta_dot', 'x', 'x_dot', 'z', 'z_dot', 'k']\n",
        "input_names = ['j1', 'j2']\n",
        "measurement_names = ['optic_flow', 'theta']"
      ]
    },
    {
      "cell_type": "code",
      "execution_count": 58,
      "id": "69fac758-5bc3-40f7-ac57-97430decf58b",
      "metadata": {
        "id": "69fac758-5bc3-40f7-ac57-97430decf58b"
      },
      "outputs": [],
      "source": [
        "dt = 0.1  # [s]"
      ]
    },
    {
      "cell_type": "code",
      "execution_count": 59,
      "id": "6830d6aa-72fe-44de-9d6e-1cd9fb44689f",
      "metadata": {
        "id": "6830d6aa-72fe-44de-9d6e-1cd9fb44689f"
      },
      "outputs": [],
      "source": [
        "simulator = pybounds.Simulator(f, h, dt=dt, state_names=state_names,\n",
        "                               input_names=input_names, measurement_names=measurement_names, mpc_horizon=10)\n"
      ]
    },
    {
      "cell_type": "code",
      "execution_count": 60,
      "id": "3c1aba1b-1c47-4246-92c3-a1d9481f5c7c",
      "metadata": {
        "id": "3c1aba1b-1c47-4246-92c3-a1d9481f5c7c"
      },
      "outputs": [],
      "source": [
        "# First define the set-point(s) to follow\n",
        "tsim = np.arange(0, 8.0, step=dt)\n",
        "NA = np.zeros_like(tsim)\n",
        "setpoint = {'theta': NA,\n",
        "            'theta_dot': NA,\n",
        "            'x': 1.0*np.cos(2*np.pi*tsim*0.3),  # ground speed changes as a sinusoid\n",
        "            'x_dot': NA,\n",
        "            'z': 0.3*np.sin(2*np.pi*tsim*0.2)+0.5, # altitude also oscillates\n",
        "            'z_dot': NA,\n",
        "            'k': np.ones_like(tsim),\n",
        "           }"
      ]
    },
    {
      "cell_type": "code",
      "execution_count": 61,
      "id": "ca9f70a8-2d99-48a6-967e-81b40a4e700c",
      "metadata": {
        "id": "ca9f70a8-2d99-48a6-967e-81b40a4e700c"
      },
      "outputs": [],
      "source": [
        "# Update the simulator set-point\n",
        "simulator.update_dict(setpoint, name='setpoint')"
      ]
    },
    {
      "cell_type": "code",
      "execution_count": 62,
      "id": "ffa19c72-cdaf-4b0b-be92-2b0ea8971a70",
      "metadata": {
        "id": "ffa19c72-cdaf-4b0b-be92-2b0ea8971a70"
      },
      "outputs": [],
      "source": [
        "# Define MPC cost function: penalize the squared error between the setpoint for g and the true g\n",
        "cost_x = (simulator.model.x['x'] - simulator.model.tvp['x_set']) ** 2\n",
        "cost_z = (simulator.model.x['z'] - simulator.model.tvp['z_set']) ** 2\n",
        "cost_k = (simulator.model.x['k'] - simulator.model.tvp['k_set']) ** 2\n",
        "cost = cost_x + cost_z #+ cost_k"
      ]
    },
    {
      "cell_type": "code",
      "execution_count": 63,
      "id": "b3f690de-56d8-4c4c-947b-a8de493c9fde",
      "metadata": {
        "id": "b3f690de-56d8-4c4c-947b-a8de493c9fde"
      },
      "outputs": [],
      "source": [
        "# Set cost function\n",
        "simulator.mpc.set_objective(mterm=cost, lterm=cost)  # objective function\n",
        "\n",
        "# Set input penalty: make this small for accurate state tracking\n",
        "simulator.mpc.set_rterm(j1=1e-4, j2=1e-4)"
      ]
    },
    {
      "cell_type": "code",
      "execution_count": 64,
      "id": "c5ec8eac-a51e-4f64-9743-b3c21c190c00",
      "metadata": {
        "id": "c5ec8eac-a51e-4f64-9743-b3c21c190c00"
      },
      "outputs": [],
      "source": [
        "simulator.mpc.bounds['lower', '_x', 'theta'] = -np.pi/4\n",
        "simulator.mpc.bounds['upper', '_x', 'theta'] = np.pi/4\n",
        "simulator.mpc.bounds['lower', '_x', 'z'] = 0.0\n",
        "\n",
        "simulator.mpc.bounds['lower', '_u', 'j2'] = 0.0"
      ]
    },
    {
      "cell_type": "code",
      "execution_count": 65,
      "id": "cfaa8cab-5c0f-42c7-b006-9914e01ceb14",
      "metadata": {
        "id": "cfaa8cab-5c0f-42c7-b006-9914e01ceb14"
      },
      "outputs": [],
      "source": [
        "# Run simulation using MPC\n",
        "t_sim, x_sim, u_sim, y_sim = simulator.simulate(x0=None, u=None, mpc=True, return_full_output=True)"
      ]
    },
    {
      "cell_type": "code",
      "execution_count": 66,
      "id": "71d4e015-81c7-45fe-83c2-90076fcc5d4c",
      "metadata": {
        "id": "71d4e015-81c7-45fe-83c2-90076fcc5d4c",
        "outputId": "ab29d661-5055-41e4-a3ac-6af46ad8fcaf",
        "colab": {
          "base_uri": "https://localhost:8080/",
          "height": 1000
        }
      },
      "outputs": [
        {
          "output_type": "display_data",
          "data": {
            "text/plain": [
              "<Figure size 600x1575 with 7 Axes>"
            ],
            "image/png": "[encoded data removed]"
          },
          "metadata": {}
        }
      ],
      "source": [
        "simulator.plot('setpoint')"
      ]
    },
    {
      "cell_type": "markdown",
      "id": "224897b5-9a61-41b7-8247-681a20a01bd8",
      "metadata": {
        "id": "224897b5-9a61-41b7-8247-681a20a01bd8"
      },
      "source": [
        "# Save the trajectory\n",
        "\n",
        "This makes is easy to load in a future notebook, for example `B_planar_drone_animation.ipynb`\n",
        "\n",
        "We will use pandas dataframes and hdf files throughout the course. This serves as a brief introduction."
      ]
    },
    {
      "cell_type": "code",
      "execution_count": 67,
      "id": "3d3677b8-c7df-492f-bbe7-a0bc755142d9",
      "metadata": {
        "id": "3d3677b8-c7df-492f-bbe7-a0bc755142d9"
      },
      "outputs": [],
      "source": [
        "# turn all the sim outputs into pandas dataframes\n",
        "df_x = pandas.DataFrame(x_sim) # x_sim is a dict\n",
        "df_u = pandas.DataFrame(u_sim) # u_sim is a dict\n",
        "df_y = pandas.DataFrame(y_sim) # y_sim is a dict\n",
        "df_t = pandas.DataFrame({'t': t_sim}) # t_sim is a 1d array, make it a dict\n",
        "\n",
        "# keep states and measurements separate since they can have conflicting names\n",
        "df_states = pandas.concat([df_t, df_x, df_u], axis=1)\n",
        "df_measurements = pandas.concat([df_t, df_y], axis=1)"
      ]
    },
    {
      "cell_type": "code",
      "execution_count": 68,
      "id": "8c0c07cf-4983-4f0c-a08c-7c2d40e101b7",
      "metadata": {
        "id": "8c0c07cf-4983-4f0c-a08c-7c2d40e101b7",
        "outputId": "611a819a-57d8-451c-aa1d-105623b1d5ef",
        "colab": {
          "base_uri": "https://localhost:8080/"
        }
      },
      "outputs": [
        {
          "output_type": "stream",
          "name": "stderr",
          "text": [
            "/tmp/ipython-input-2852094502.py:1: FutureWarning: Starting with pandas version 3.0 all arguments of to_hdf except for the argument 'path_or_buf' will be keyword-only.\n",
            "  df_states.to_hdf('planar_drone_sim_states.hdf', 'states')\n",
            "/tmp/ipython-input-2852094502.py:2: FutureWarning: Starting with pandas version 3.0 all arguments of to_hdf except for the argument 'path_or_buf' will be keyword-only.\n",
            "  df_measurements.to_hdf('planar_drone_sim_measurements.hdf', 'measurements')\n"
          ]
        }
      ],
      "source": [
        "df_states.to_hdf('planar_drone_sim_states.hdf', 'states')\n",
        "df_measurements.to_hdf('planar_drone_sim_measurements.hdf', 'measurements')"
      ]
    },
    {
      "cell_type": "markdown",
      "id": "be78cea9-4bb3-4f1a-a6f1-badb9aacb052",
      "metadata": {
        "id": "be78cea9-4bb3-4f1a-a6f1-badb9aacb052"
      },
      "source": [
        "### look at the dataframe format"
      ]
    },
    {
      "cell_type": "code",
      "execution_count": 69,
      "id": "37ba35d7-8eb0-43d3-a444-0d17805f9554",
      "metadata": {
        "id": "37ba35d7-8eb0-43d3-a444-0d17805f9554",
        "outputId": "35617550-9dde-46ba-ce8e-13600b6028e0",
        "colab": {
          "base_uri": "https://localhost:8080/",
          "height": 424
        }
      },
      "outputs": [
        {
          "output_type": "execute_result",
          "data": {
            "text/plain": [
              "      t     theta  theta_dot         x         x_dot         z         z_dot  \\\n",
              "0   0.0  0.000000   0.000000  1.000000  0.000000e+00  0.500000  0.000000e+00   \n",
              "1   0.1  0.392699   7.853971  1.000000 -5.868254e-10  0.500000  3.877305e-09   \n",
              "2   0.2  0.785398   0.000015  1.000000 -1.458334e-08  0.500000  2.277275e-08   \n",
              "3   0.3  0.785398  -0.000007  0.937796 -1.229894e+00  0.558646  1.070738e+00   \n",
              "4   0.4  0.785398   0.000007  0.750998 -2.403292e+00  0.691208  1.439371e+00   \n",
              "..  ...       ...        ...       ...           ...       ...           ...   \n",
              "75  7.5 -0.094614  -0.049196 -2.030769 -5.635379e-01  3.645466  1.808128e-01   \n",
              "76  7.6 -0.101030  -0.079112 -2.086682 -5.547972e-01  3.663405  1.779812e-01   \n",
              "77  7.7 -0.109582  -0.091940 -2.141741 -5.464510e-01  3.681067  1.752786e-01   \n",
              "78  7.8 -0.118857  -0.093557 -2.195985 -5.384706e-01  3.698465  1.726955e-01   \n",
              "79  7.9 -0.127998  -0.089264 -2.249447 -5.308298e-01  3.715610  1.702233e-01   \n",
              "\n",
              "      k        j1            j2  \n",
              "0   1.0  3.141588  3.966667e-08  \n",
              "1   1.0 -3.141582  2.375220e-07  \n",
              "2   1.0 -0.000009  1.773038e+01  \n",
              "3   1.0  0.000006  2.166066e+01  \n",
              "4   1.0 -0.123927  3.345266e-07  \n",
              "..  ...       ...           ...  \n",
              "75  1.0 -0.011967 -9.083992e-09  \n",
              "76  1.0 -0.005131 -9.087672e-09  \n",
              "77  1.0 -0.000647 -9.089191e-09  \n",
              "78  1.0  0.001717 -9.089506e-09  \n",
              "79  1.0  0.001717 -9.089506e-09  \n",
              "\n",
              "[80 rows x 10 columns]"
            ],
            "text/html": [
              "\n",
              "  <div id=\"df-21976498-1dad-4b73-b2f6-33b8b1ca3c73\" class=\"colab-df-container\">\n",
              "    <div>\n",
              "<style scoped>\n",
              "    .dataframe tbody tr th:only-of-type {\n",
              "        vertical-align: middle;\n",
              "    }\n",
              "\n",
              "    .dataframe tbody tr th {\n",
              "        vertical-align: top;\n",
              "    }\n",
              "\n",
              "    .dataframe thead th {\n",
              "        text-align: right;\n",
              "    }\n",
              "</style>\n",
              "<table border=\"1\" class=\"dataframe\">\n",
              "  <thead>\n",
              "    <tr style=\"text-align: right;\">\n",
              "      <th></th>\n",
              "      <th>t</th>\n",
              "      <th>theta</th>\n",
              "      <th>theta_dot</th>\n",
              "      <th>x</th>\n",
              "      <th>x_dot</th>\n",
              "      <th>z</th>\n",
              "      <th>z_dot</th>\n",
              "      <th>k</th>\n",
              "      <th>j1</th>\n",
              "      <th>j2</th>\n",
              "    </tr>\n",
              "  </thead>\n",
              "  <tbody>\n",
              "    <tr>\n",
              "      <th>0</th>\n",
              "      <td>0.0</td>\n",
              "      <td>0.000000</td>\n",
              "      <td>0.000000</td>\n",
              "      <td>1.000000</td>\n",
              "      <td>0.000000e+00</td>\n",
              "      <td>0.500000</td>\n",
              "      <td>0.000000e+00</td>\n",
              "      <td>1.0</td>\n",
              "      <td>3.141588</td>\n",
              "      <td>3.966667e-08</td>\n",
              "    </tr>\n",
              "    <tr>\n",
              "      <th>1</th>\n",
              "      <td>0.1</td>\n",
              "      <td>0.392699</td>\n",
              "      <td>7.853971</td>\n",
              "      <td>1.000000</td>\n",
              "      <td>-5.868254e-10</td>\n",
              "      <td>0.500000</td>\n",
              "      <td>3.877305e-09</td>\n",
              "      <td>1.0</td>\n",
              "      <td>-3.141582</td>\n",
              "      <td>2.375220e-07</td>\n",
              "    </tr>\n",
              "    <tr>\n",
              "      <th>2</th>\n",
              "      <td>0.2</td>\n",
              "      <td>0.785398</td>\n",
              "      <td>0.000015</td>\n",
              "      <td>1.000000</td>\n",
              "      <td>-1.458334e-08</td>\n",
              "      <td>0.500000</td>\n",
              "      <td>2.277275e-08</td>\n",
              "      <td>1.0</td>\n",
              "      <td>-0.000009</td>\n",
              "      <td>1.773038e+01</td>\n",
              "    </tr>\n",
              "    <tr>\n",
              "      <th>3</th>\n",
              "      <td>0.3</td>\n",
              "      <td>0.785398</td>\n",
              "      <td>-0.000007</td>\n",
              "      <td>0.937796</td>\n",
              "      <td>-1.229894e+00</td>\n",
              "      <td>0.558646</td>\n",
              "      <td>1.070738e+00</td>\n",
              "      <td>1.0</td>\n",
              "      <td>0.000006</td>\n",
              "      <td>2.166066e+01</td>\n",
              "    </tr>\n",
              "    <tr>\n",
              "      <th>4</th>\n",
              "      <td>0.4</td>\n",
              "      <td>0.785398</td>\n",
              "      <td>0.000007</td>\n",
              "      <td>0.750998</td>\n",
              "      <td>-2.403292e+00</td>\n",
              "      <td>0.691208</td>\n",
              "      <td>1.439371e+00</td>\n",
              "      <td>1.0</td>\n",
              "      <td>-0.123927</td>\n",
              "      <td>3.345266e-07</td>\n",
              "    </tr>\n",
              "    <tr>\n",
              "      <th>...</th>\n",
              "      <td>...</td>\n",
              "      <td>...</td>\n",
              "      <td>...</td>\n",
              "      <td>...</td>\n",
              "      <td>...</td>\n",
              "      <td>...</td>\n",
              "      <td>...</td>\n",
              "      <td>...</td>\n",
              "      <td>...</td>\n",
              "      <td>...</td>\n",
              "    </tr>\n",
              "    <tr>\n",
              "      <th>75</th>\n",
              "      <td>7.5</td>\n",
              "      <td>-0.094614</td>\n",
              "      <td>-0.049196</td>\n",
              "      <td>-2.030769</td>\n",
              "      <td>-5.635379e-01</td>\n",
              "      <td>3.645466</td>\n",
              "      <td>1.808128e-01</td>\n",
              "      <td>1.0</td>\n",
              "      <td>-0.011967</td>\n",
              "      <td>-9.083992e-09</td>\n",
              "    </tr>\n",
              "    <tr>\n",
              "      <th>76</th>\n",
              "      <td>7.6</td>\n",
              "      <td>-0.101030</td>\n",
              "      <td>-0.079112</td>\n",
              "      <td>-2.086682</td>\n",
              "      <td>-5.547972e-01</td>\n",
              "      <td>3.663405</td>\n",
              "      <td>1.779812e-01</td>\n",
              "      <td>1.0</td>\n",
              "      <td>-0.005131</td>\n",
              "      <td>-9.087672e-09</td>\n",
              "    </tr>\n",
              "    <tr>\n",
              "      <th>77</th>\n",
              "      <td>7.7</td>\n",
              "      <td>-0.109582</td>\n",
              "      <td>-0.091940</td>\n",
              "      <td>-2.141741</td>\n",
              "      <td>-5.464510e-01</td>\n",
              "      <td>3.681067</td>\n",
              "      <td>1.752786e-01</td>\n",
              "      <td>1.0</td>\n",
              "      <td>-0.000647</td>\n",
              "      <td>-9.089191e-09</td>\n",
              "    </tr>\n",
              "    <tr>\n",
              "      <th>78</th>\n",
              "      <td>7.8</td>\n",
              "      <td>-0.118857</td>\n",
              "      <td>-0.093557</td>\n",
              "      <td>-2.195985</td>\n",
              "      <td>-5.384706e-01</td>\n",
              "      <td>3.698465</td>\n",
              "      <td>1.726955e-01</td>\n",
              "      <td>1.0</td>\n",
              "      <td>0.001717</td>\n",
              "      <td>-9.089506e-09</td>\n",
              "    </tr>\n",
              "    <tr>\n",
              "      <th>79</th>\n",
              "      <td>7.9</td>\n",
              "      <td>-0.127998</td>\n",
              "      <td>-0.089264</td>\n",
              "      <td>-2.249447</td>\n",
              "      <td>-5.308298e-01</td>\n",
              "      <td>3.715610</td>\n",
              "      <td>1.702233e-01</td>\n",
              "      <td>1.0</td>\n",
              "      <td>0.001717</td>\n",
              "      <td>-9.089506e-09</td>\n",
              "    </tr>\n",
              "  </tbody>\n",
              "</table>\n",
              "<p>80 rows × 10 columns</p>\n",
              "</div>\n",
              "    <div class=\"colab-df-buttons\">\n",
              "\n",
              "  <div class=\"colab-df-container\">\n",
              "    <button class=\"colab-df-convert\" onclick=\"convertToInteractive('df-21976498-1dad-4b73-b2f6-33b8b1ca3c73')\"\n",
              "            title=\"Convert this dataframe to an interactive table.\"\n",
              "            style=\"display:none;\">\n",
              "\n",
              "  <svg xmlns=\"http://www.w3.org/2000/svg\" height=\"24px\" viewBox=\"0 -960 960 960\">\n",
              "    <path d=\"M120-120v-720h720v720H120Zm60-500h600v-160H180v160Zm220 220h160v-160H400v160Zm0 220h160v-160H400v160ZM180-400h160v-160H180v160Zm440 0h160v-160H620v160ZM180-180h160v-160H180v160Zm440 0h160v-160H620v160Z\"/>\n",
              "  </svg>\n",
              "    </button>\n",
              "\n",
              "  <style>\n",
              "    .colab-df-container {\n",
              "      display:flex;\n",
              "      gap: 12px;\n",
              "    }\n",
              "\n",
              "    .colab-df-convert {\n",
              "      background-color: #E8F0FE;\n",
              "      border: none;\n",
              "      border-radius: 50%;\n",
              "      cursor: pointer;\n",
              "      display: none;\n",
              "      fill: #1967D2;\n",
              "      height: 32px;\n",
              "      padding: 0 0 0 0;\n",
              "      width: 32px;\n",
              "    }\n",
              "\n",
              "    .colab-df-convert:hover {\n",
              "      background-color: #E2EBFA;\n",
              "      box-shadow: 0px 1px 2px rgba(60, 64, 67, 0.3), 0px 1px 3px 1px rgba(60, 64, 67, 0.15);\n",
              "      fill: #174EA6;\n",
              "    }\n",
              "\n",
              "    .colab-df-buttons div {\n",
              "      margin-bottom: 4px;\n",
              "    }\n",
              "\n",
              "    [theme=dark] .colab-df-convert {\n",
              "      background-color: #3B4455;\n",
              "      fill: #D2E3FC;\n",
              "    }\n",
              "\n",
              "    [theme=dark] .colab-df-convert:hover {\n",
              "      background-color: #434B5C;\n",
              "      box-shadow: 0px 1px 3px 1px rgba(0, 0, 0, 0.15);\n",
              "      filter: drop-shadow(0px 1px 2px rgba(0, 0, 0, 0.3));\n",
              "      fill: #FFFFFF;\n",
              "    }\n",
              "  </style>\n",
              "\n",
              "    <script>\n",
              "      const buttonEl =\n",
              "        document.querySelector('#df-21976498-1dad-4b73-b2f6-33b8b1ca3c73 button.colab-df-convert');\n",
              "      buttonEl.style.display =\n",
              "        google.colab.kernel.accessAllowed ? 'block' : 'none';\n",
              "\n",
              "      async function convertToInteractive(key) {\n",
              "        const element = document.querySelector('#df-21976498-1dad-4b73-b2f6-33b8b1ca3c73');\n",
              "        const dataTable =\n",
              "          await google.colab.kernel.invokeFunction('convertToInteractive',\n",
              "                                                    [key], {});\n",
              "        if (!dataTable) return;\n",
              "\n",
              "        const docLinkHtml = 'Like what you see? Visit the ' +\n",
              "          '<a target=\"_blank\" href=https://colab.research.google.com/notebooks/data_table.ipynb>data table notebook</a>'\n",
              "          + ' to learn more about interactive tables.';\n",
              "        element.innerHTML = '';\n",
              "        dataTable['output_type'] = 'display_data';\n",
              "        await google.colab.output.renderOutput(dataTable, element);\n",
              "        const docLink = document.createElement('div');\n",
              "        docLink.innerHTML = docLinkHtml;\n",
              "        element.appendChild(docLink);\n",
              "      }\n",
              "    </script>\n",
              "  </div>\n",
              "\n",
              "\n",
              "    <div id=\"df-f477edd2-b08d-49bb-8030-dcd2aca8cd3d\">\n",
              "      <button class=\"colab-df-quickchart\" onclick=\"quickchart('df-f477edd2-b08d-49bb-8030-dcd2aca8cd3d')\"\n",
              "                title=\"Suggest charts\"\n",
              "                style=\"display:none;\">\n",
              "\n",
              "<svg xmlns=\"http://www.w3.org/2000/svg\" height=\"24px\"viewBox=\"0 0 24 24\"\n",
              "     width=\"24px\">\n",
              "    <g>\n",
              "        <path d=\"M19 3H5c-1.1 0-2 .9-2 2v14c0 1.1.9 2 2 2h14c1.1 0 2-.9 2-2V5c0-1.1-.9-2-2-2zM9 17H7v-7h2v7zm4 0h-2V7h2v10zm4 0h-2v-4h2v4z\"/>\n",
              "    </g>\n",
              "</svg>\n",
              "      </button>\n",
              "\n",
              "<style>\n",
              "  .colab-df-quickchart {\n",
              "      --bg-color: #E8F0FE;\n",
              "      --fill-color: #1967D2;\n",
              "      --hover-bg-color: #E2EBFA;\n",
              "      --hover-fill-color: #174EA6;\n",
              "      --disabled-fill-color: #AAA;\n",
              "      --disabled-bg-color: #DDD;\n",
              "  }\n",
              "\n",
              "  [theme=dark] .colab-df-quickchart {\n",
              "      --bg-color: #3B4455;\n",
              "      --fill-color: #D2E3FC;\n",
              "      --hover-bg-color: #434B5C;\n",
              "      --hover-fill-color: #FFFFFF;\n",
              "      --disabled-bg-color: #3B4455;\n",
              "      --disabled-fill-color: #666;\n",
              "  }\n",
              "\n",
              "  .colab-df-quickchart {\n",
              "    background-color: var(--bg-color);\n",
              "    border: none;\n",
              "    border-radius: 50%;\n",
              "    cursor: pointer;\n",
              "    display: none;\n",
              "    fill: var(--fill-color);\n",
              "    height: 32px;\n",
              "    padding: 0;\n",
              "    width: 32px;\n",
              "  }\n",
              "\n",
              "  .colab-df-quickchart:hover {\n",
              "    background-color: var(--hover-bg-color);\n",
              "    box-shadow: 0 1px 2px rgba(60, 64, 67, 0.3), 0 1px 3px 1px rgba(60, 64, 67, 0.15);\n",
              "    fill: var(--button-hover-fill-color);\n",
              "  }\n",
              "\n",
              "  .colab-df-quickchart-complete:disabled,\n",
              "  .colab-df-quickchart-complete:disabled:hover {\n",
              "    background-color: var(--disabled-bg-color);\n",
              "    fill: var(--disabled-fill-color);\n",
              "    box-shadow: none;\n",
              "  }\n",
              "\n",
              "  .colab-df-spinner {\n",
              "    border: 2px solid var(--fill-color);\n",
              "    border-color: transparent;\n",
              "    border-bottom-color: var(--fill-color);\n",
              "    animation:\n",
              "      spin 1s steps(1) infinite;\n",
              "  }\n",
              "\n",
              "  @keyframes spin {\n",
              "    0% {\n",
              "      border-color: transparent;\n",
              "      border-bottom-color: var(--fill-color);\n",
              "      border-left-color: var(--fill-color);\n",
              "    }\n",
              "    20% {\n",
              "      border-color: transparent;\n",
              "      border-left-color: var(--fill-color);\n",
              "      border-top-color: var(--fill-color);\n",
              "    }\n",
              "    30% {\n",
              "      border-color: transparent;\n",
              "      border-left-color: var(--fill-color);\n",
              "      border-top-color: var(--fill-color);\n",
              "      border-right-color: var(--fill-color);\n",
              "    }\n",
              "    40% {\n",
              "      border-color: transparent;\n",
              "      border-right-color: var(--fill-color);\n",
              "      border-top-color: var(--fill-color);\n",
              "    }\n",
              "    60% {\n",
              "      border-color: transparent;\n",
              "      border-right-color: var(--fill-color);\n",
              "    }\n",
              "    80% {\n",
              "      border-color: transparent;\n",
              "      border-right-color: var(--fill-color);\n",
              "      border-bottom-color: var(--fill-color);\n",
              "    }\n",
              "    90% {\n",
              "      border-color: transparent;\n",
              "      border-bottom-color: var(--fill-color);\n",
              "    }\n",
              "  }\n",
              "</style>\n",
              "\n",
              "      <script>\n",
              "        async function quickchart(key) {\n",
              "          const quickchartButtonEl =\n",
              "            document.querySelector('#' + key + ' button');\n",
              "          quickchartButtonEl.disabled = true;  // To prevent multiple clicks.\n",
              "          quickchartButtonEl.classList.add('colab-df-spinner');\n",
              "          try {\n",
              "            const charts = await google.colab.kernel.invokeFunction(\n",
              "                'suggestCharts', [key], {});\n",
              "          } catch (error) {\n",
              "            console.error('Error during call to suggestCharts:', error);\n",
              "          }\n",
              "          quickchartButtonEl.classList.remove('colab-df-spinner');\n",
              "          quickchartButtonEl.classList.add('colab-df-quickchart-complete');\n",
              "        }\n",
              "        (() => {\n",
              "          let quickchartButtonEl =\n",
              "            document.querySelector('#df-f477edd2-b08d-49bb-8030-dcd2aca8cd3d button');\n",
              "          quickchartButtonEl.style.display =\n",
              "            google.colab.kernel.accessAllowed ? 'block' : 'none';\n",
              "        })();\n",
              "      </script>\n",
              "    </div>\n",
              "\n",
              "  <div id=\"id_bb2d3841-82b2-4063-86c0-d004762557ac\">\n",
              "    <style>\n",
              "      .colab-df-generate {\n",
              "        background-color: #E8F0FE;\n",
              "        border: none;\n",
              "        border-radius: 50%;\n",
              "        cursor: pointer;\n",
              "        display: none;\n",
              "        fill: #1967D2;\n",
              "        height: 32px;\n",
              "        padding: 0 0 0 0;\n",
              "        width: 32px;\n",
              "      }\n",
              "\n",
              "      .colab-df-generate:hover {\n",
              "        background-color: #E2EBFA;\n",
              "        box-shadow: 0px 1px 2px rgba(60, 64, 67, 0.3), 0px 1px 3px 1px rgba(60, 64, 67, 0.15);\n",
              "        fill: #174EA6;\n",
              "      }\n",
              "\n",
              "      [theme=dark] .colab-df-generate {\n",
              "        background-color: #3B4455;\n",
              "        fill: #D2E3FC;\n",
              "      }\n",
              "\n",
              "      [theme=dark] .colab-df-generate:hover {\n",
              "        background-color: #434B5C;\n",
              "        box-shadow: 0px 1px 3px 1px rgba(0, 0, 0, 0.15);\n",
              "        filter: drop-shadow(0px 1px 2px rgba(0, 0, 0, 0.3));\n",
              "        fill: #FFFFFF;\n",
              "      }\n",
              "    </style>\n",
              "    <button class=\"colab-df-generate\" onclick=\"generateWithVariable('df_states')\"\n",
              "            title=\"Generate code using this dataframe.\"\n",
              "            style=\"display:none;\">\n",
              "\n",
              "  <svg xmlns=\"http://www.w3.org/2000/svg\" height=\"24px\"viewBox=\"0 0 24 24\"\n",
              "       width=\"24px\">\n",
              "    <path d=\"M7,19H8.4L18.45,9,17,7.55,7,17.6ZM5,21V16.75L18.45,3.32a2,2,0,0,1,2.83,0l1.4,1.43a1.91,1.91,0,0,1,.58,1.4,1.91,1.91,0,0,1-.58,1.4L9.25,21ZM18.45,9,17,7.55Zm-12,3A5.31,5.31,0,0,0,4.9,8.1,5.31,5.31,0,0,0,1,6.5,5.31,5.31,0,0,0,4.9,4.9,5.31,5.31,0,0,0,6.5,1,5.31,5.31,0,0,0,8.1,4.9,5.31,5.31,0,0,0,12,6.5,5.46,5.46,0,0,0,6.5,12Z\"/>\n",
              "  </svg>\n",
              "    </button>\n",
              "    <script>\n",
              "      (() => {\n",
              "      const buttonEl =\n",
              "        document.querySelector('#id_bb2d3841-82b2-4063-86c0-d004762557ac button.colab-df-generate');\n",
              "      buttonEl.style.display =\n",
              "        google.colab.kernel.accessAllowed ? 'block' : 'none';\n",
              "\n",
              "      buttonEl.onclick = () => {\n",
              "        google.colab.notebook.generateWithVariable('df_states');\n",
              "      }\n",
              "      })();\n",
              "    </script>\n",
              "  </div>\n",
              "\n",
              "    </div>\n",
              "  </div>\n"
            ],
            "application/vnd.google.colaboratory.intrinsic+json": {
              "type": "dataframe",
              "variable_name": "df_states",
              "summary": "{\n  \"name\": \"df_states\",\n  \"rows\": 80,\n  \"fields\": [\n    {\n      \"column\": \"t\",\n      \"properties\": {\n        \"dtype\": \"number\",\n        \"std\": 2.32379000772445,\n        \"min\": 0.0,\n        \"max\": 7.9,\n        \"num_unique_values\": 80,\n        \"samples\": [\n          3.0,\n          0.0,\n          2.2\n        ],\n        \"semantic_type\": \"\",\n        \"description\": \"\"\n      }\n    },\n    {\n      \"column\": \"theta\",\n      \"properties\": {\n        \"dtype\": \"number\",\n        \"std\": 0.43119392811477786,\n        \"min\": -0.7853981674055149,\n        \"max\": 0.7853981714038408,\n        \"num_unique_values\": 80,\n        \"samples\": [\n          0.334860996342989,\n          0.0,\n          -0.743479345845292\n        ],\n        \"semantic_type\": \"\",\n        \"description\": \"\"\n      }\n    },\n    {\n      \"column\": \"theta_dot\",\n      \"properties\": {\n        \"dtype\": \"number\",\n        \"std\": 1.3789496502482217,\n        \"min\": -3.9841724870116635,\n        \"max\": 7.853970686144483,\n        \"num_unique_values\": 80,\n        \"samples\": [\n          1.6537852930368782,\n          0.0,\n          -1.6767531168806569\n        ],\n        \"semantic_type\": \"\",\n        \"description\": \"\"\n      }\n    },\n    {\n      \"column\": \"x\",\n      \"properties\": {\n        \"dtype\": \"number\",\n        \"std\": 0.9969722050617225,\n        \"min\": -2.2494469122755483,\n        \"max\": 1.3082326304437735,\n        \"num_unique_values\": 80,\n        \"samples\": [\n          0.18464139565962615,\n          1.0,\n          -1.2261771728437132\n        ],\n        \"semantic_type\": \"\",\n        \"description\": \"\"\n      }\n    },\n    {\n      \"column\": \"x_dot\",\n      \"properties\": {\n        \"dtype\": \"number\",\n        \"std\": 1.208527019002988,\n        \"min\": -4.524009619256513,\n        \"max\": 3.8472117542149493,\n        \"num_unique_values\": 80,\n        \"samples\": [\n          1.1414134521398867,\n          0.0,\n          -0.7119040668770731\n        ],\n        \"semantic_type\": \"\",\n        \"description\": \"\"\n      }\n    },\n    {\n      \"column\": \"z\",\n      \"properties\": {\n        \"dtype\": \"number\",\n        \"std\": 1.0136172379017656,\n        \"min\": 0.5,\n        \"max\": 3.7156097599553037,\n        \"num_unique_values\": 80,\n        \"samples\": [\n          2.0431758891706733,\n          0.5,\n          1.4179026209645647\n        ],\n        \"semantic_type\": \"\",\n        \"description\": \"\"\n      }\n    },\n    {\n      \"column\": \"z_dot\",\n      \"properties\": {\n        \"dtype\": \"number\",\n        \"std\": 0.3816096350563754,\n        \"min\": 0.0,\n        \"max\": 2.3817112127444,\n        \"num_unique_values\": 80,\n        \"samples\": [\n          0.3760122523627305,\n          0.0,\n          0.23478656816946894\n        ],\n        \"semantic_type\": \"\",\n        \"description\": \"\"\n      }\n    },\n    {\n      \"column\": \"k\",\n      \"properties\": {\n        \"dtype\": \"number\",\n        \"std\": 0.0,\n        \"min\": 1.0,\n        \"max\": 1.0,\n        \"num_unique_values\": 1,\n        \"samples\": [\n          1.0\n        ],\n        \"semantic_type\": \"\",\n        \"description\": \"\"\n      }\n    },\n    {\n      \"column\": \"j1\",\n      \"properties\": {\n        \"dtype\": \"number\",\n        \"std\": 0.6096123281929159,\n        \"min\": -3.1415824246744632,\n        \"max\": 3.141588274457793,\n        \"num_unique_values\": 79,\n        \"samples\": [\n          0.266894543724032\n        ],\n        \"semantic_type\": \"\",\n        \"description\": \"\"\n      }\n    },\n    {\n      \"column\": \"j2\",\n      \"properties\": {\n        \"dtype\": \"number\",\n        \"std\": 13.674778568335544,\n        \"min\": -9.43776535128385e-09,\n        \"max\": 94.16146284538253,\n        \"num_unique_values\": 79,\n        \"samples\": [\n          -7.750090928815062e-09\n        ],\n        \"semantic_type\": \"\",\n        \"description\": \"\"\n      }\n    }\n  ]\n}"
            }
          },
          "metadata": {},
          "execution_count": 69
        }
      ],
      "source": [
        "df_states"
      ]
    },
    {
      "cell_type": "markdown",
      "id": "5cc0b6b1-da5e-4972-a5f2-e3dd8fb6efad",
      "metadata": {
        "id": "5cc0b6b1-da5e-4972-a5f2-e3dd8fb6efad"
      },
      "source": [
        "# Exercises\n",
        "\n",
        "1. Update the dynamics model to include air drag ($Drag = C*vel^2$, C is a combined drag coefficient, traditionally $C=1/2 \\rho C_d A$). Does this make it \"easier\" or \"harder\" to control the drone?\n",
        "2. What is the fastest you can make the drone oscillate in the x dimension?\n",
        "3. What happens if you change the `rterm` in `simulator.mpc.set_rterm(j1=1e-4, j2=1e-4)`?"
      ]
    },
    {
      "cell_type": "markdown",
      "source": [
        "## Exercise 1"
      ],
      "metadata": {
        "id": "Vcf2IYvJcyqp"
      },
      "id": "Vcf2IYvJcyqp"
    },
    {
      "cell_type": "code",
      "source": [],
      "metadata": {
        "id": "audHBp-ec1nR"
      },
      "id": "audHBp-ec1nR",
      "execution_count": null,
      "outputs": []
    },
    {
      "cell_type": "markdown",
      "id": "a0908296-e702-494e-8e2e-8859c2728984",
      "metadata": {
        "id": "a0908296-e702-494e-8e2e-8859c2728984"
      },
      "source": [
        "# Lessons learned and next steps\n",
        "\n",
        "### Lessons learned\n",
        "\n",
        "1. How to simulate a nonlinear dynamical system with python and odeint\n",
        "2. How to use model predictive control to drive a dynamical systems model along a desired trajectory\n",
        "3. How to format data as a pandas dataframe, and save data to disk\n",
        "\n",
        "### Next steps\n",
        "\n",
        "1. Loading saved data\n",
        "2. Making an animation\n",
        "\n",
        "### Long term next steps\n",
        "\n",
        "1. Use this model and trajectory to analyze observability and write a Kalman filter to estimate states given limited measurements."
      ]
    },
    {
      "cell_type": "code",
      "execution_count": 40,
      "id": "5743a107-975a-46f3-991c-70339099c664",
      "metadata": {
        "id": "5743a107-975a-46f3-991c-70339099c664"
      },
      "outputs": [],
      "source": []
    }
  ],
  "metadata": {
    "kernelspec": {
      "display_name": "PY38",
      "language": "python",
      "name": "py38"
    },
    "language_info": {
      "codemirror_mode": {
        "name": "ipython",
        "version": 3
      },
      "file_extension": ".py",
      "mimetype": "text/x-python",
      "name": "python",
      "nbconvert_exporter": "python",
      "pygments_lexer": "ipython3",
      "version": "3.8.6"
    },
    "colab": {
      "provenance": [],
      "toc_visible": true
    }
  },
  "nbformat": 4,
  "nbformat_minor": 5
}